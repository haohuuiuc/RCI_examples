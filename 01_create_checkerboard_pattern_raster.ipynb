{
 "cells": [
  {
   "cell_type": "markdown",
   "metadata": {},
   "source": [
    "## Create a new raster with the checkerboard pattern"
   ]
  },
  {
   "cell_type": "code",
   "execution_count": 16,
   "metadata": {},
   "outputs": [],
   "source": [
    "import json    \n",
    "from arcpy.sa import RasterInfo, Raster \n",
    "from arcpy.ia import Render"
   ]
  },
  {
   "cell_type": "code",
   "execution_count": 17,
   "metadata": {},
   "outputs": [],
   "source": [
    "# Create an empty RasterInfo object  \n",
    "myRasterInfo = RasterInfo()  \n",
    "  \n",
    "# Load raster info from a Python dictionary  \n",
    "myRasterInfoData = {  \n",
    "  'bandCount': 1,  \n",
    "  'extent': {  \n",
    "    'xmin': -107.0,  \n",
    "    'ymin': 38.0,  \n",
    "    'xmax': -104.0,  \n",
    "    'ymax': 40.0,  \n",
    "    'spatialReference': {'wkid': 4326},  \n",
    "  },  \n",
    "  'pixelSizeX': 0.01,  \n",
    "  'pixelSizeY': 0.01,  \n",
    "  'pixelType': 'U8',  \n",
    "}  "
   ]
  },
  {
   "cell_type": "code",
   "execution_count": 18,
   "metadata": {},
   "outputs": [],
   "source": [
    "# Convert myRasterInfoData to a JSON string and load into myRasterInfo  \n",
    "myRasterInfo.fromJSONString(json.dumps(myRasterInfoData))  \n",
    "  \n",
    "# Create a new Raster object based on myRasterInfo  \n",
    "myRaster = Raster(myRasterInfo)  "
   ]
  },
  {
   "cell_type": "code",
   "execution_count": 19,
   "metadata": {},
   "outputs": [],
   "source": [
    "for (r, c) in myRaster:   \n",
    "    # Checkerboard with 10 pixels width  \n",
    "    if r % 20 < 10 and c % 20 < 10 or r % 20 >= 10 and c % 20 >= 10:  \n",
    "        myRaster[r, c] = 1  \n",
    "    else:  \n",
    "        myRaster[r, c] = 0\n",
    "myRaster.save(r'C:\\output\\checkerboard.tif')  "
   ]
  },
  {
   "cell_type": "code",
   "execution_count": 20,
   "metadata": {},
   "outputs": [
    {
     "data": {
      "image/png": "[encoded data removed]",
      "text/plain": [
       "C:\\Users\\hao9717\\AppData\\Local\\Temp\\1\\ArcGISProTemp15952\\xbd01b6b7_c93d_40e5_90c6_4def3fba7886y0.afr"
      ]
     },
     "execution_count": 20,
     "metadata": {},
     "output_type": "execute_result"
    }
   ],
   "source": [
    "Render(myRaster, colormap=\"Black to White\")"
   ]
  },
  {
   "cell_type": "code",
   "execution_count": null,
   "metadata": {},
   "outputs": [],
   "source": []
  },
  {
   "cell_type": "code",
   "execution_count": null,
   "metadata": {},
   "outputs": [],
   "source": []
  },
  {
   "cell_type": "code",
   "execution_count": null,
   "metadata": {},
   "outputs": [],
   "source": []
  }
 ],
 "metadata": {
  "kernelspec": {
   "display_name": "ArcGISPro",
   "language": "Python",
   "name": "python3"
  },
  "language_info": {
   "file_extension": ".py",
   "name": "python",
   "version": "3"
  }
 },
 "nbformat": 4,
 "nbformat_minor": 1
}
