{
 "cells": [
  {
   "cell_type": "code",
   "execution_count": null,
   "metadata": {
    "collapsed": true
   },
   "outputs": [],
   "source": [
    "import json    \n",
    "from arcpy.sa import RasterInfo, Raster  \n",
    "\n",
    "# Create an empty RasterInfo object  \n",
    "myRasterInfo = RasterInfo()  \n",
    "  \n",
    "# Load raster info from a Python dictionary  \n",
    "myRasterInfoData = {  \n",
    "  'bandCount': 1,  \n",
    "  'extent': {  \n",
    "    'xmin': -107.0,  \n",
    "    'ymin': 38.0,  \n",
    "    'xmax': -104.0,  \n",
    "    'ymax': 40.0,  \n",
    "    'spatialReference': {'wkid': 4326},  \n",
    "  },  \n",
    "  'pixelSizeX': 0.01,  \n",
    "  'pixelSizeY': 0.01,  \n",
    "  'pixelType': 'U8',  \n",
    "}  \n",
    "\t  \n",
    "# Convert myRasterInfoData to a JSON string and load into myRasterInfo  \n",
    "myRasterInfo.fromJSONString(json.dumps(myRasterInfoData))  \n",
    "  \n",
    "# Create a new Raster object based on myRasterInfo  \n",
    "myRaster = Raster(myRasterInfo)  \n",
    "  \n",
    "for (r, c) in myRaster:   \n",
    "    # Checkerboard with 10 pixels width  \n",
    "    if r % 20 < 10 and c % 20 < 10 or r % 20 >= 10 and c % 20 >= 10:  \n",
    "      myRaster[r, c] = 1  \n",
    "    else:  \n",
    "      myRaster[r, c] = 0\n",
    "\n",
    "myRaster.save(r 'C:\\output\\checkerboard.tif')  "
   ]
  },
  {
   "cell_type": "code",
   "execution_count": null,
   "metadata": {},
   "outputs": [],
   "source": []
  }
 ],
 "metadata": {
  "kernelspec": {
   "display_name": "Python 2",
   "language": "python",
   "name": "python2"
  },
  "language_info": {
   "codemirror_mode": {
    "name": "ipython",
    "version": 2
   },
   "file_extension": ".py",
   "mimetype": "text/x-python",
   "name": "python",
   "nbconvert_exporter": "python",
   "pygments_lexer": "ipython2",
   "version": "2.7.6"
  }
 },
 "nbformat": 4,
 "nbformat_minor": 0
}
