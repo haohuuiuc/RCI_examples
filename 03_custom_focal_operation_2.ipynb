{
 "cells": [
  {
   "cell_type": "markdown",
   "metadata": {},
   "source": [
    "## Calculate minimum slope from a DEM"
   ]
  },
  {
   "cell_type": "code",
   "execution_count": null,
   "metadata": {},
   "outputs": [],
   "source": [
    "from arcpy.sa import Raster, RasterCellIterator\n",
    "\n",
    "dem = Raster(r'C:\\sample_data\\demtif.tif')\n",
    "cell_x = dem.meanCellHeight\n",
    "cell_y = dem.meanCellWidth\n",
    "raster_info = dem.getRasterInfo()\n",
    "\n",
    "# Set the output pixel type to be float 32 \n",
    "raster_info.setPixelType('F32')\n",
    "min_slope = Raster(raster_info)\n",
    "with RasterCellIterator({'rasters':[dem, min_slope]}) as rci:\n",
    "for r,c in rci:\n",
    "    slopes = []\n",
    "    # Iterate through 8 neighbors \n",
    "    for x,y in [(-1,-1),(-1,0),(1,0),(0,-1),(0,1),(1,1),(-1,1),(1,-1)]:\n",
    "        # Calculate the slope from center cell to each neighbor\n",
    "        slope = abs(dem[r,c]-dem[r+x,c+y])/math.sqrt(cell_x**2+cell_y**2)\n",
    "        # Add all the slope values to a list\n",
    "        slopes.append(slope)\n",
    "    # Assign the minimum slope to the output cell value \n",
    "    min_slope[r,c] = min(slopes)\n",
    "min_slope.save(r'C:\\output\\min_slope.tif')\n"
   ]
  }
 ],
 "metadata": {
  "kernelspec": {
   "display_name": "ArcGISPro",
   "language": "Python",
   "name": "python3"
  },
  "language_info": {
   "file_extension": ".py",
   "name": "python",
   "version": "3"
  }
 },
 "nbformat": 4,
 "nbformat_minor": 2
}
